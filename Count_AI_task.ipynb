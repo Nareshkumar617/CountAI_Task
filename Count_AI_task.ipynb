{
  "nbformat": 4,
  "nbformat_minor": 0,
  "metadata": {
    "colab": {
      "provenance": []
    },
    "kernelspec": {
      "name": "python3",
      "display_name": "Python 3"
    },
    "language_info": {
      "name": "python"
    }
  },
  "cells": [
    {
      "cell_type": "code",
      "execution_count": null,
      "metadata": {
        "id": "v191ElSD8zF0"
      },
      "outputs": [],
      "source": []
    },
    {
      "cell_type": "code",
      "source": [
        "!git clone https://github.com/open-mmlab/mmdetection.git\n",
        "%cd mmdetection\n"
      ],
      "metadata": {
        "colab": {
          "base_uri": "https://localhost:8080/"
        },
        "id": "OWQNZMv2-6XA",
        "outputId": "4a8fe832-a2e2-4b61-dda6-a73939c56407"
      },
      "execution_count": 2,
      "outputs": [
        {
          "output_type": "stream",
          "name": "stdout",
          "text": [
            "Cloning into 'mmdetection'...\n",
            "remote: Enumerating objects: 38023, done.\u001b[K\n",
            "remote: Counting objects: 100% (4/4), done.\u001b[K\n",
            "remote: Compressing objects: 100% (4/4), done.\u001b[K\n",
            "remote: Total 38023 (delta 0), reused 1 (delta 0), pack-reused 38019 (from 1)\u001b[K\n",
            "Receiving objects: 100% (38023/38023), 63.18 MiB | 17.39 MiB/s, done.\n",
            "Resolving deltas: 100% (26232/26232), done.\n",
            "/content/mmdetection\n"
          ]
        }
      ]
    },
    {
      "cell_type": "code",
      "source": [
        "from google.colab import drive\n",
        "drive.mount('/content/drive')"
      ],
      "metadata": {
        "colab": {
          "base_uri": "https://localhost:8080/"
        },
        "id": "G7pfmtbRE6_a",
        "outputId": "9fde20cc-846f-41f1-e05a-1f42513440c4"
      },
      "execution_count": 1,
      "outputs": [
        {
          "output_type": "stream",
          "name": "stdout",
          "text": [
            "Drive already mounted at /content/drive; to attempt to forcibly remount, call drive.mount(\"/content/drive\", force_remount=True).\n"
          ]
        }
      ]
    },
    {
      "cell_type": "code",
      "source": [
        "!pip install mmdet\n",
        "!pip install -U openmim\n",
        "!mim install mmdet\n",
        "!pip install mmcv==2.0.0rc4"
      ],
      "metadata": {
        "id": "JT5qULawCV96"
      },
      "execution_count": null,
      "outputs": []
    },
    {
      "cell_type": "code",
      "source": [
        "# Import required libraries\n",
        "import os\n",
        "import mmcv\n",
        "from mmdet.apis import init_detector, train_detector\n",
        "from mmdet.datasets import build_dataset\n",
        "from mmdet.utils import collect_env, get_root_logger\n",
        "\n",
        "# Define paths for the dataset\n",
        "dataset_root = '/content/drive/MyDrive/Count_AI_task/Aquarium_Combined.v2-raw-1024.coco-mmdetection'\n",
        "train_ann_file = os.path.join(dataset_root, 'train/_annotations.coco.json')\n",
        "valid_ann_file = os.path.join(dataset_root, 'valid/_annotations.coco.json')\n",
        "test_ann_file = os.path.join(dataset_root, 'test/_annotations.coco.json')\n",
        "\n",
        "# Define dataset configuration\n",
        "data_config = dict(\n",
        "    train=dict(\n",
        "        type='CocoDataset',\n",
        "        ann_file=train_ann_file,\n",
        "        img_prefix=os.path.join(dataset_root, 'train/images/'),\n",
        "        classes=('species1', 'species2', 'species3')  # Update with actual class names\n",
        "    ),\n",
        "    val=dict(\n",
        "        type='CocoDataset',\n",
        "        ann_file=valid_ann_file,\n",
        "        img_prefix=os.path.join(dataset_root, 'valid/images/'),\n",
        "        classes=('species1', 'species2', 'species3')\n",
        "    ),\n",
        "    test=dict(\n",
        "        type='CocoDataset',\n",
        "        ann_file=test_ann_file,\n",
        "        img_prefix=os.path.join(dataset_root, 'test/images/'),\n",
        "        classes=('species1', 'species2', 'species3')\n",
        "    )\n",
        ")\n",
        "\n",
        "# Load model configuration from MMDetection model zoo (e.g., Faster R-CNN)\n",
        "config_file = 'configs/faster_rcnn/faster_rcnn_r50_fpn_1x_coco.py'  # Example model config\n",
        "model = init_detector(config_file, device='cuda:0')\n",
        "\n",
        "# Modify the model's configuration for your dataset\n",
        "model.cfg.data.train = data_config['train']\n",
        "model.cfg.data.val = data_config['val']\n",
        "model.cfg.data.test = data_config['test']\n",
        "model.cfg.model.roi_head.bbox_head.num_classes = len(data_config['train']['classes'])\n",
        "\n",
        "# Set training parameters\n",
        "model.cfg.optimizer.lr = 0.001  # Learning rate\n",
        "model.cfg.data.samples_per_gpu = 2  # Batch size\n",
        "\n",
        "# Build dataset and start training\n",
        "datasets = [build_dataset(model.cfg.data.train)]\n",
        "model.CLASSES = datasets[0].CLASSES\n",
        "\n",
        "# Train the model\n",
        "train_detector(model, datasets[0], cfg=model.cfg, distributed=False, validate=True)"
      ],
      "metadata": {
        "id": "e0sNBQad8z9p"
      },
      "execution_count": null,
      "outputs": []
    },
    {
      "cell_type": "code",
      "source": [
        "# Load the trained model for inference\n",
        "checkpoint_file = '/content/drive/MyDrive/Count_AI_task/Aquarium_Combined.v2-raw-1024.coco-mmdetection/checkpoint.pth'  # Update with actual checkpoint path\n",
        "model = init_detector(config_file, checkpoint_file, device='cuda:0')\n",
        "\n",
        "# Run inference on test images\n",
        "test_images_dir = os.path.join(dataset_root, 'test/images/')\n",
        "for img_name in os.listdir(test_images_dir):\n",
        "    img_path = os.path.join(test_images_dir, img_name)\n",
        "    result = inference_detector(model, img_path)\n",
        "\n",
        "    # Visualize results (you can save or display them)\n",
        "    show_result(img_path, result, model.CLASSES)"
      ],
      "metadata": {
        "id": "P8mrexXkLBBp"
      },
      "execution_count": null,
      "outputs": []
    }
  ]
}